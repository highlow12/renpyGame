{
 "cells": [
  {
   "cell_type": "code",
   "execution_count": null,
   "metadata": {},
   "outputs": [],
   "source": [
    "import os\n",
    "import pandas as pd\n",
    "# xlsx to csv\n",
    "# 변환할 파일이 있는 폴더 경로\n",
    "folder_path = r'C:\\Users\\highl\\Desktop\\script\\script'\n",
    "\n",
    "# 폴더 내의 모든 파일 탐색\n",
    "for filename in os.listdir(folder_path):\n",
    "    if filename.endswith('.xlsx'):\n",
    "        xls_file = os.path.join(folder_path, filename)\n",
    "        csv_file = os.path.join(folder_path, filename.replace('.xlsx', '.csv'))\n",
    "\n",
    "        # xls 파일 읽기\n",
    "        data = pd.read_excel(xls_file)\n",
    "\n",
    "        # csv 파일로 저장\n",
    "        data.to_csv(csv_file, index=False, encoding='utf-8-sig')\n",
    "\n",
    "        print(f\"{xls_file} 파일이 {csv_file}로 변환되었습니다.\")\n"
   ]
  },
  {
   "cell_type": "code",
   "execution_count": null,
   "metadata": {},
   "outputs": [],
   "source": [
    "import os\n",
    "import re\n",
    "# csv filename change\n",
    "# 작업할 폴더 경로 설정\n",
    "folder_path = r'C:\\Users\\highl\\Desktop\\script' # 여기에 폴더 경로를 입력하세요.\n",
    "\n",
    "# 폴더 내의 모든 파일 목록 가져오기\n",
    "for filename in os.listdir(folder_path):\n",
    "    # 정규 표현식으로 파일 이름 패턴 매칭\n",
    "    match = re.match(r'스크립트_(\\d+)화\\.csv', filename)\n",
    "    if match:\n",
    "        # x 값 추출\n",
    "        x = match.group(1)\n",
    "        # 새 파일 이름 생성\n",
    "        new_filename = f'Chapter_{x}.csv'\n",
    "        # 파일 경로 설정\n",
    "        old_file = os.path.join(folder_path, filename)\n",
    "        new_file = os.path.join(folder_path, new_filename)\n",
    "        # 파일 이름 변경\n",
    "        os.rename(old_file, new_file)\n",
    "        print(f'변경 완료: {filename} -> {new_filename}')\n"
   ]
  },
  {
   "cell_type": "code",
   "execution_count": null,
   "metadata": {},
   "outputs": [],
   "source": [
    "import os\n",
    "# image filename change\n",
    "def rename_files_in_folder(folder_path):\n",
    "    # 이미지 파일 확장자 리스트\n",
    "    image_extensions = ['.jpg', '.jpeg', '.png', '.gif', '.bmp', '.tiff']\n",
    "\n",
    "    # 폴더 내의 모든 파일을 확인\n",
    "    for filename in os.listdir(folder_path):\n",
    "        # 파일 확장자를 확인하여 이미지 파일인지 확인\n",
    "        if any(filename.lower().endswith(ext) for ext in image_extensions):\n",
    "            # 파일명에 'bg'가 포함되지 않은 경우\n",
    "            if 'bg' not in filename:\n",
    "                # 새로운 파일명 생성\n",
    "                new_filename = 'char ' + filename\n",
    "                # 파일 경로 생성\n",
    "                old_file = os.path.join(folder_path, filename)\n",
    "                new_file = os.path.join(folder_path, new_filename)\n",
    "                # 파일명 변경\n",
    "                os.rename(old_file, new_file)\n",
    "                print(f'Renamed: {filename} to {new_filename}')\n",
    "\n",
    "# 사용 예시: 'path_to_your_folder'을 실제 폴더 경로로 변경하세요\n",
    "folder_path = r'C:\\Users\\highl\\Desktop\\RENPY\\renpyGame\\game\\images'\n",
    "rename_files_in_folder(folder_path)\n"
   ]
  },
  {
   "cell_type": "code",
   "execution_count": 17,
   "metadata": {},
   "outputs": [],
   "source": [
    "import csv\n",
    "import re\n",
    "import os\n",
    "\n",
    "char_name_dict = { 'S': 's', 'T': 'T', 'H': 'h', 'N': 'n', 'E': 'e', 'A': 'a', 'q':'q'}\n",
    "\n",
    "\n",
    "def get_char_id(char_name):\n",
    "    return char_name_dict.get(char_name, f\"Character('{char_name}')\")\n",
    "\n",
    "def replace_underscore_with_space(text):\n",
    "    return text.replace('_', ' ')\n",
    "\n",
    "def csv_to_renpy(csv_file, rpy_file, chapter_num = 0):\n",
    "    menu_count = 0\n",
    "    is_showing_char = False\n",
    "    is_in_jump1 = False\n",
    "    choise_Q = []\n",
    "    teb_count = 0\n",
    "    with open(csv_file, 'r', encoding='utf-8-sig') as file:\n",
    "        reader = csv.DictReader(file)\n",
    "        lines = list(reader)\n",
    "        #print(lines[0])\n",
    "        \n",
    "\n",
    "    with open(rpy_file, 'w', encoding='utf-8-sig') as file:\n",
    "        file.write(f\"label chapter_{chapter_num}:\\n\")\n",
    "        \n",
    "        for line in lines:\n",
    "            if line['Chrt_OnF']:\n",
    "                char_onf = replace_underscore_with_space(line['Chrt_OnF'].lower())\n",
    "                #showing char image\n",
    "                file.write(('    ' * teb_count) + f\"    show char {char_onf} at top\\n\")\n",
    "                is_showing_char = True\n",
    "                \n",
    "            if (l := line['Event']) and (t := line['Text']):\n",
    "                if l == 'menu':\n",
    "                    file.write(f\"    menu .m{menu_count}:\\n\")\n",
    "                    menu_count += 1\n",
    "                    teb_count = 1\n",
    "                elif l.lower() == 'choise1' or l.lower() == 'choise2':\n",
    "                    choise_Q.append(f\"        \\\"{t}\\\":\\n\")\n",
    "                    teb_count = 2\n",
    "                    is_in_jump1 = True\n",
    "                    continue\n",
    "                elif l == 'jump1' or l == 'jump2':\n",
    "                    file.write(choise_Q.pop(0))\n",
    "                elif l.lower() == 'out' or l.lower() == 'end':\n",
    "                    if (l := len(choise_Q)) >= 0:\n",
    "                        #print(\"pop all choise_Q\")\n",
    "                        for t in range(l):\n",
    "                            f = choise_Q.pop(0)\n",
    "                            file.write(f)\n",
    "                            file.write(\"    \" + f[:-2] + \"\\n\")\n",
    "                            \n",
    "                    teb_count = 0\n",
    "                    \n",
    "\n",
    "            # background\n",
    "            if line['background']:\n",
    "                background = replace_underscore_with_space(line['background'].lower())\n",
    "                if background == 'black' or background == 'white':\n",
    "                    file.write(('    ' * teb_count) + f\"    scene {background}\\n\")\n",
    "                else:\n",
    "                    file.write(('    ' * teb_count) + f\"    scene bg {background}\\n\")\n",
    "            \n",
    "            # Sound\n",
    "            if line['sound']:\n",
    "                file.write(('    ' * teb_count) + f\"    play sound \\\"sfx/{line['sound'].lower()}.mp3\\\"\\n\")\n",
    "            \n",
    "            # BGM\n",
    "            if line['BGM']:\n",
    "                file.write(('    ' * teb_count) + f\"    play music \\\"bgm/{line['BGM'].lower()}.mp3\\\"\\n\")\n",
    "            \n",
    "            # Character and dialogue\n",
    "            if line['Chrt_ID'] and line['Text']:\n",
    "                char_id = replace_underscore_with_space(line['Chrt_ID'])\n",
    "\n",
    "                if char_id == '???':\n",
    "                    char_id = 'q'\n",
    "                char_id = get_char_id(char_id)\n",
    "                \n",
    "                \n",
    "                file.write(('    ' * teb_count) + f\"    {char_id} \\\"{line['Text']}\\\"\\n\")\n",
    "            elif line['Text']:\n",
    "                # Narration\n",
    "                narration = re.sub(r'\\(|\\)', '', line['Text'])  # Remove parentheses\n",
    "\n",
    "                if is_showing_char:\n",
    "                    file.write(('    ' * teb_count) + \"    hide char\\n\" + ('    ' * teb_count) + f\"    \\\"{narration}\\\"\\n\")\n",
    "                else:\n",
    "                    file.write(('    ' * teb_count) + f\"    \\\"{narration}\\\"\\n\")\n",
    "                is_showing_char = False\n",
    "                \n",
    "                \n",
    "            \n",
    "            # Event (e.g., shake)\n",
    "            if l:=line['Event']:\n",
    "                if l == 'menu' or l == 'Out' or l == 'jump1' or l == 'jump2' or l == 'end':\n",
    "                    continue\n",
    "                if l == 'red' or l == 'white':\n",
    "                    file.write(('    ' * teb_count) + f\"    show {line['Event']} at fadeInOut\\n\")\n",
    "                    continue\n",
    "                file.write(('    ' * teb_count) + f\"    with {line['Event']}\\n\")\n",
    "            \n",
    "            file.write(\"\\n\")\n",
    "        file.write(\"    $ persistent.ClaerChapter(max(chapter_num,persistent.ClaerChapter))\\n\")\n",
    "        file.write(\"    return\\n\")\n"
   ]
  },
  {
   "cell_type": "code",
   "execution_count": 13,
   "metadata": {},
   "outputs": [],
   "source": [
    "def find_files_in_directory(directory, extension=None):\n",
    "    files = []\n",
    "    for filename in os.listdir(directory):\n",
    "        if extension:\n",
    "            if filename.endswith(extension):\n",
    "                files.append(filename)\n",
    "        else:\n",
    "            files.append(filename)\n",
    "    return files"
   ]
  },
  {
   "cell_type": "code",
   "execution_count": 14,
   "metadata": {},
   "outputs": [
    {
     "ename": "TypeError",
     "evalue": "'int' object is not iterable",
     "output_type": "error",
     "traceback": [
      "\u001b[1;31m---------------------------------------------------------------------------\u001b[0m",
      "\u001b[1;31mTypeError\u001b[0m                                 Traceback (most recent call last)",
      "Cell \u001b[1;32mIn[14], line 8\u001b[0m\n\u001b[0;32m      6\u001b[0m files \u001b[38;5;241m=\u001b[39m find_files_in_directory(current_dir)\n\u001b[0;32m      7\u001b[0m files\u001b[38;5;241m.\u001b[39msort()\n\u001b[1;32m----> 8\u001b[0m \u001b[38;5;28;43;01mfor\u001b[39;49;00m\u001b[43m \u001b[49m\u001b[43mi\u001b[49m\u001b[43m \u001b[49m\u001b[38;5;129;43;01min\u001b[39;49;00m\u001b[43m \u001b[49m\u001b[38;5;28;43mlen\u001b[39;49m\u001b[43m(\u001b[49m\u001b[43mfiles\u001b[49m\u001b[43m)\u001b[49m\u001b[43m:\u001b[49m\n\u001b[0;32m      9\u001b[0m \u001b[43m    \u001b[49m\u001b[43mcsv_to_renpy\u001b[49m\u001b[43m(\u001b[49m\u001b[43mos\u001b[49m\u001b[38;5;241;43m.\u001b[39;49m\u001b[43mpath\u001b[49m\u001b[38;5;241;43m.\u001b[39;49m\u001b[43mjoin\u001b[49m\u001b[43m(\u001b[49m\u001b[43mcurrent_dir\u001b[49m\u001b[43m,\u001b[49m\u001b[43m \u001b[49m\u001b[43mfiles\u001b[49m\u001b[43m[\u001b[49m\u001b[43mi\u001b[49m\u001b[43m]\u001b[49m\u001b[43m)\u001b[49m\u001b[43m,\u001b[49m\u001b[43m \u001b[49m\u001b[38;5;124;43mf\u001b[39;49m\u001b[38;5;124;43m'\u001b[39;49m\u001b[38;5;124;43mchapter\u001b[39;49m\u001b[38;5;132;43;01m{\u001b[39;49;00m\u001b[43mi\u001b[49m\u001b[38;5;132;43;01m}\u001b[39;49;00m\u001b[38;5;124;43m.rpy\u001b[39;49m\u001b[38;5;124;43m'\u001b[39;49m\u001b[43m,\u001b[49m\u001b[43mi\u001b[49m\u001b[43m)\u001b[49m\n\u001b[0;32m     10\u001b[0m \u001b[43m    \u001b[49m\u001b[38;5;28;43mprint\u001b[39;49m\u001b[43m(\u001b[49m\u001b[38;5;124;43mf\u001b[39;49m\u001b[38;5;124;43m\"\u001b[39;49m\u001b[38;5;124;43mchapter \u001b[39;49m\u001b[38;5;132;43;01m{\u001b[39;49;00m\u001b[43mi\u001b[49m\u001b[38;5;132;43;01m}\u001b[39;49;00m\u001b[38;5;124;43m done.\u001b[39;49m\u001b[38;5;124;43m\"\u001b[39;49m\u001b[43m)\u001b[49m\n",
      "\u001b[1;31mTypeError\u001b[0m: 'int' object is not iterable"
     ]
    }
   ],
   "source": [
    "# 스크립트 파일의 디렉토리를 기준으로 경로 설정\n",
    "current_dir = os.getcwd()\n",
    "input_file = os.path.join(current_dir, 'input.csv')\n",
    "output_file = os.path.join(current_dir, 'output.rpy')\n",
    "# Usage\n",
    "files = find_files_in_directory(current_dir)\n",
    "files.sort()\n",
    "for i in len(files):\n",
    "    csv_to_renpy(os.path.join(current_dir, files[i]), f'chapter{i}.rpy',i)\n",
    "    print(f\"chapter {i} done.\")\n",
    "print('all done')"
   ]
  },
  {
   "cell_type": "code",
   "execution_count": 15,
   "metadata": {},
   "outputs": [
    {
     "name": "stdout",
     "output_type": "stream",
     "text": [
      "work Chapter_0\n",
      "오류 발생: 'background'\n"
     ]
    }
   ],
   "source": [
    "#csv_to_renpy(r'D:\\renpyGame\\csvs\\Chapter_0.csv',r'D:\\renpyGame\\rpys\\Chapter_0.rpy')\n",
    "n = 0\n",
    "\n",
    "filename = f'Chapter_{n}'\n",
    "inputfile = 'D:\\\\renpyGame\\\\csvs\\\\' + filename + '.csv'\n",
    "outputfile = 'D:\\\\renpyGame\\\\rpys\\\\' + filename + '.rpy'\n",
    "print(f'work {filename}')\n",
    "try:\n",
    "    csv_to_renpy(inputfile,outputfile)\n",
    "except Exception as e:\n",
    "    print(f\"오류 발생: {e}\")\n",
    "else:\n",
    "    print(f\"{filename} done.\")\n",
    "    n += 1"
   ]
  },
  {
   "cell_type": "code",
   "execution_count": 18,
   "metadata": {},
   "outputs": [
    {
     "name": "stdout",
     "output_type": "stream",
     "text": [
      "{'\\ufeffbackground': '', 'Chrt_ID': '', 'Chrt_OnF': '', 'Event': '', 'Sound': '', 'BGM': '', 'BGM2': '', 'Text': '제목 : 죽고 싶지 않다면'}\n"
     ]
    },
    {
     "ename": "KeyError",
     "evalue": "'background'",
     "output_type": "error",
     "traceback": [
      "\u001b[1;31m---------------------------------------------------------------------------\u001b[0m",
      "\u001b[1;31mKeyError\u001b[0m                                  Traceback (most recent call last)",
      "Cell \u001b[1;32mIn[18], line 1\u001b[0m\n\u001b[1;32m----> 1\u001b[0m \u001b[43mcsv_to_renpy\u001b[49m\u001b[43m(\u001b[49m\u001b[38;5;124;43mr\u001b[39;49m\u001b[38;5;124;43m'\u001b[39;49m\u001b[38;5;124;43mD:\u001b[39;49m\u001b[38;5;124;43m\\\u001b[39;49m\u001b[38;5;124;43mrenpyGame\u001b[39;49m\u001b[38;5;124;43m\\\u001b[39;49m\u001b[38;5;124;43mcsvs\u001b[39;49m\u001b[38;5;124;43m\\\u001b[39;49m\u001b[38;5;124;43mChapter_0.csv\u001b[39;49m\u001b[38;5;124;43m'\u001b[39;49m\u001b[43m,\u001b[49m\u001b[38;5;124;43mr\u001b[39;49m\u001b[38;5;124;43m'\u001b[39;49m\u001b[38;5;124;43mD:\u001b[39;49m\u001b[38;5;124;43m\\\u001b[39;49m\u001b[38;5;124;43mrenpyGame\u001b[39;49m\u001b[38;5;124;43m\\\u001b[39;49m\u001b[38;5;124;43mrpys\u001b[39;49m\u001b[38;5;124;43m\\\u001b[39;49m\u001b[38;5;124;43mChapter_0.rpy\u001b[39;49m\u001b[38;5;124;43m'\u001b[39;49m\u001b[43m)\u001b[49m\n",
      "Cell \u001b[1;32mIn[17], line 60\u001b[0m, in \u001b[0;36mcsv_to_renpy\u001b[1;34m(csv_file, rpy_file, chapter_num)\u001b[0m\n\u001b[0;32m     56\u001b[0m         teb_count \u001b[38;5;241m=\u001b[39m \u001b[38;5;241m0\u001b[39m\n\u001b[0;32m     59\u001b[0m \u001b[38;5;66;03m# background\u001b[39;00m\n\u001b[1;32m---> 60\u001b[0m \u001b[38;5;28;01mif\u001b[39;00m \u001b[43mline\u001b[49m\u001b[43m[\u001b[49m\u001b[38;5;124;43m'\u001b[39;49m\u001b[38;5;124;43mbackground\u001b[39;49m\u001b[38;5;124;43m'\u001b[39;49m\u001b[43m]\u001b[49m:\n\u001b[0;32m     61\u001b[0m     background \u001b[38;5;241m=\u001b[39m replace_underscore_with_space(line[\u001b[38;5;124m'\u001b[39m\u001b[38;5;124mbackground\u001b[39m\u001b[38;5;124m'\u001b[39m]\u001b[38;5;241m.\u001b[39mlower())\n\u001b[0;32m     62\u001b[0m     \u001b[38;5;28;01mif\u001b[39;00m background \u001b[38;5;241m==\u001b[39m \u001b[38;5;124m'\u001b[39m\u001b[38;5;124mblack\u001b[39m\u001b[38;5;124m'\u001b[39m \u001b[38;5;129;01mor\u001b[39;00m background \u001b[38;5;241m==\u001b[39m \u001b[38;5;124m'\u001b[39m\u001b[38;5;124mwhite\u001b[39m\u001b[38;5;124m'\u001b[39m:\n",
      "\u001b[1;31mKeyError\u001b[0m: 'background'"
     ]
    }
   ],
   "source": [
    "csv_to_renpy(r'D:\\renpyGame\\csvs\\Chapter_0.csv',r'D:\\renpyGame\\rpys\\Chapter_0.rpy')"
   ]
  }
 ],
 "metadata": {
  "kernelspec": {
   "display_name": "Python 3",
   "language": "python",
   "name": "python3"
  },
  "language_info": {
   "codemirror_mode": {
    "name": "ipython",
    "version": 3
   },
   "file_extension": ".py",
   "mimetype": "text/x-python",
   "name": "python",
   "nbconvert_exporter": "python",
   "pygments_lexer": "ipython3",
   "version": "3.12.6"
  }
 },
 "nbformat": 4,
 "nbformat_minor": 2
}
